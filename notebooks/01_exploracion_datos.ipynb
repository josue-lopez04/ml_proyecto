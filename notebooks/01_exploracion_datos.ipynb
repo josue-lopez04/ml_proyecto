{
 "cells": [
  {
   "cell_type": "code",
   "execution_count": null,
   "id": "80f96ff8",
   "metadata": {
    "vscode": {
     "languageId": "plaintext"
    }
   },
   "outputs": [],
   "source": [
    "import pandas as pd\n",
    "import numpy as np\n",
    "import matplotlib.pyplot as plt\n",
    "import seaborn as sns\n",
    "from sklearn.model_selection import train_test_split\n",
    "from sklearn.preprocessing import StandardScaler\n",
    "from sklearn.ensemble import RandomForestClassifier\n",
    "from sklearn.linear_model import LogisticRegression\n",
    "from sklearn.metrics import accuracy_score, classification_report, confusion_matrix\n",
    "import pickle\n",
    "\n",
    "# Cargar datos\n",
    "# Nota: Descarga el dataset de UCI ML Repository\n",
    "df = pd.read_csv('../data/heart_disease.csv')\n",
    "\n",
    "# Exploración inicial\n",
    "print(\"Shape de los datos:\", df.shape)\n",
    "print(\"\\nInformación del dataset:\")\n",
    "print(df.info())\n",
    "print(\"\\nEstadísticas descriptivas:\")\n",
    "print(df.describe())\n",
    "\n",
    "# Verificar valores nulos\n",
    "print(\"\\nValores nulos por columna:\")\n",
    "print(df.isnull().sum())\n",
    "\n",
    "# Distribución de la variable objetivo\n",
    "plt.figure(figsize=(8, 6))\n",
    "sns.countplot(data=df, x='target')\n",
    "plt.title('Distribución de Enfermedades Cardíacas')\n",
    "plt.xlabel('Sin Enfermedad (0) vs Con Enfermedad (1)')\n",
    "plt.show()"
   ]
  }
 ],
 "metadata": {
  "language_info": {
   "name": "python"
  }
 },
 "nbformat": 4,
 "nbformat_minor": 5
}
